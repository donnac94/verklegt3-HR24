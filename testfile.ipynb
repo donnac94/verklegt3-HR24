{
 "cells": [
  {
   "cell_type": "code",
   "execution_count": 30,
   "metadata": {},
   "outputs": [
    {
     "name": "stderr",
     "output_type": "stream",
     "text": [
      "EEE"
     ]
    },
    {
     "name": "stdout",
     "output_type": "stream",
     "text": [
      "\u001b[H\u001b[2J\u001b[H\u001b[2J\u001b[H\u001b[2J\u001b[H\u001b[2J\u001b[H\u001b[2J\u001b[H\u001b[2J\u001b[H\u001b[2J\u001b[H\u001b[2J"
     ]
    },
    {
     "name": "stderr",
     "output_type": "stream",
     "text": [
      "\n",
      "======================================================================\n",
      "ERROR: test_add_property (__main__.TestPropertySystem)\n",
      "----------------------------------------------------------------------\n",
      "Traceback (most recent call last):\n",
      "  File \"/Applications/Xcode.app/Contents/Developer/Library/Frameworks/Python3.framework/Versions/3.9/lib/python3.9/unittest/mock.py\", line 1337, in patched\n",
      "    return func(*newargs, **newkeywargs)\n",
      "  File \"/var/folders/n2/pz126sd924d06m25zymxwxp40000gn/T/ipykernel_1776/3365014978.py\", line 34, in test_add_property\n",
      "    self.property_ui.display_menu()\n",
      "  File \"/Users/donnac/Desktop/verklegt3-HR24/UI_Layer/PropertyUI.py\", line 30, in display_menu\n",
      "    choice = input(\"\\nChoose an option: \").strip().lower()\n",
      "  File \"/Applications/Xcode.app/Contents/Developer/Library/Frameworks/Python3.framework/Versions/3.9/lib/python3.9/unittest/mock.py\", line 1093, in __call__\n",
      "    return self._mock_call(*args, **kwargs)\n",
      "  File \"/Applications/Xcode.app/Contents/Developer/Library/Frameworks/Python3.framework/Versions/3.9/lib/python3.9/unittest/mock.py\", line 1097, in _mock_call\n",
      "    return self._execute_mock_call(*args, **kwargs)\n",
      "  File \"/Applications/Xcode.app/Contents/Developer/Library/Frameworks/Python3.framework/Versions/3.9/lib/python3.9/unittest/mock.py\", line 1154, in _execute_mock_call\n",
      "    result = next(effect)\n",
      "StopIteration\n",
      "\n",
      "======================================================================\n",
      "ERROR: test_list_all_properties (__main__.TestPropertySystem)\n",
      "----------------------------------------------------------------------\n",
      "Traceback (most recent call last):\n",
      "  File \"/Applications/Xcode.app/Contents/Developer/Library/Frameworks/Python3.framework/Versions/3.9/lib/python3.9/unittest/mock.py\", line 1337, in patched\n",
      "    return func(*newargs, **newkeywargs)\n",
      "  File \"/var/folders/n2/pz126sd924d06m25zymxwxp40000gn/T/ipykernel_1776/3365014978.py\", line 54, in test_list_all_properties\n",
      "    self.property_ui.display_menu()\n",
      "  File \"/Users/donnac/Desktop/verklegt3-HR24/UI_Layer/PropertyUI.py\", line 37, in display_menu\n",
      "    self.list_all_properties()\n",
      "  File \"/Users/donnac/Desktop/verklegt3-HR24/UI_Layer/PropertyUI.py\", line 91, in list_all_properties\n",
      "    properties = self.logic_layer.list_properties()\n",
      "AttributeError: 'PropertyLogic' object has no attribute 'get_all_properties'\n",
      "\n",
      "======================================================================\n",
      "ERROR: test_update_property (__main__.TestPropertySystem)\n",
      "----------------------------------------------------------------------\n",
      "Traceback (most recent call last):\n",
      "  File \"/Applications/Xcode.app/Contents/Developer/Library/Frameworks/Python3.framework/Versions/3.9/lib/python3.9/unittest/mock.py\", line 1337, in patched\n",
      "    return func(*newargs, **newkeywargs)\n",
      "  File \"/var/folders/n2/pz126sd924d06m25zymxwxp40000gn/T/ipykernel_1776/3365014978.py\", line 44, in test_update_property\n",
      "    self.property_ui.display_menu()\n",
      "  File \"/Users/donnac/Desktop/verklegt3-HR24/UI_Layer/PropertyUI.py\", line 30, in display_menu\n",
      "    choice = input(\"\\nChoose an option: \").strip().lower()\n",
      "  File \"/Applications/Xcode.app/Contents/Developer/Library/Frameworks/Python3.framework/Versions/3.9/lib/python3.9/unittest/mock.py\", line 1093, in __call__\n",
      "    return self._mock_call(*args, **kwargs)\n",
      "  File \"/Applications/Xcode.app/Contents/Developer/Library/Frameworks/Python3.framework/Versions/3.9/lib/python3.9/unittest/mock.py\", line 1097, in _mock_call\n",
      "    return self._execute_mock_call(*args, **kwargs)\n",
      "  File \"/Applications/Xcode.app/Contents/Developer/Library/Frameworks/Python3.framework/Versions/3.9/lib/python3.9/unittest/mock.py\", line 1154, in _execute_mock_call\n",
      "    result = next(effect)\n",
      "StopIteration\n",
      "\n",
      "----------------------------------------------------------------------\n",
      "Ran 3 tests in 0.097s\n",
      "\n",
      "FAILED (errors=3)\n"
     ]
    }
   ],
   "source": [
    "import unittest\n",
    "from unittest.mock import patch, MagicMock\n",
    "import tempfile\n",
    "import os\n",
    "from Data_Layer.PropertyData import PropertyData\n",
    "from Models.property import Property\n",
    "\n",
    "from Logic_layer.PropertyLogic import PropertyLogic\n",
    "from UI_Layer.PropertyUI import PropertyUI\n",
    "\n",
    "class TestPropertySystem(unittest.TestCase):\n",
    "    def setUp(self):\n",
    "        # Create a temporary file to act as the properties CSV file\n",
    "        self.temp_file = tempfile.NamedTemporaryFile(delete=False, mode='w+', newline='', encoding='utf-8')\n",
    "        self.temp_file.write(\"property_id,address,location,property_condition,manager,requires_maintenance\\n\")\n",
    "        self.temp_file.write(\"1,123 Main St,Downtown,Good,John Doe,Roof Repair,Paint Walls\\n\")\n",
    "        self.temp_file.close()\n",
    "\n",
    "        # Initialize the PropertyData with the temporary file\n",
    "        self.property_data = PropertyData(file_name=self.temp_file.name)\n",
    "        # Initialize the PropertyLogic with the PropertyData\n",
    "        self.property_logic = PropertyLogic(self.property_data)\n",
    "        # Initialize the PropertyUI with the PropertyLogic\n",
    "        self.property_ui = PropertyUI(self.property_logic)\n",
    "\n",
    "    def tearDown(self):\n",
    "        # Remove the temporary file after the test\n",
    "        os.remove(self.temp_file.name)\n",
    "\n",
    "    @patch('builtins.input', side_effect=['1', '2', '456 Elm St', 'Suburb', 'Excellent', 'Jane Smith', 'Garden Maintenance, Window Cleaning', 'q'])\n",
    "    @patch('builtins.print')\n",
    "    def test_add_property(self, mock_print, mock_input):\n",
    "        # Run the display_menu method\n",
    "        self.property_ui.display_menu()\n",
    "        # Verify that the property was added to the CSV file\n",
    "        properties = self.property_logic.list_properties()\n",
    "        self.assertEqual(len(properties), 2)  # 2 properties\n",
    "        self.assertTrue(any(p.property_id == 2 and p.address == \"456 Elm St\" for p in properties))\n",
    "\n",
    "    @patch('builtins.input', side_effect=['2', '1', '789 Oak St', '', '', '', '', 'q'])\n",
    "    @patch('builtins.print')\n",
    "    def test_update_property(self, mock_print, mock_input):\n",
    "        # Run the display_menu method\n",
    "        self.property_ui.display_menu()\n",
    "        # Verify that the property was updated in the CSV file\n",
    "        properties = self.property_logic.list_properties()\n",
    "        self.assertEqual(len(properties), 1)  # 1 property\n",
    "        self.assertTrue(any(p.property_id == 1 and p.address == \"789 Oak St\" for p in properties))\n",
    "\n",
    "    @patch('builtins.input', side_effect=['3', 'q'])\n",
    "    @patch('builtins.print')\n",
    "    def test_list_all_properties(self, mock_print, mock_input):\n",
    "        # Run the display_menu method\n",
    "        self.property_ui.display_menu()\n",
    "        # Verify that the properties were listed correctly\n",
    "        properties = self.property_logic.list_properties()\n",
    "        self.assertEqual(len(properties), 1)\n",
    "        self.assertEqual(properties[0].property_id, 1)\n",
    "        self.assertEqual(properties[0].address, \"123 Main St\")\n",
    "        self.assertEqual(properties[0].location, \"Downtown\")\n",
    "        self.assertEqual(properties[0].property_condition, \"Good\")\n",
    "        self.assertEqual(properties[0].manager, \"John Doe\")\n",
    "        self.assertEqual(properties[0].requires_maintenance, [\"Roof Repair\", \"Paint Walls\"])\n",
    "\n",
    "if __name__ == \"__main__\":\n",
    "    unittest.main(argv=[''], exit=False)"
   ]
  },
  {
   "cell_type": "code",
   "execution_count": 19,
   "metadata": {},
   "outputs": [
    {
     "name": "stdout",
     "output_type": "stream",
     "text": [
      "+-------------------------------------Air Nan-------------------------------------+\n",
      "|                                Welcome to Air NaN                               |\n",
      "+---------------------------------------------------------------------------------+\n",
      "| Home(home) | |Search(search) | Destinations(des) | Housing(Hou) | Employees(Em) |\n",
      "|---------------------------------------------------------------------------------|\n",
      "|                                   Search Menu                                   |\n",
      "|---------------------------------------------------------------------------------|\n",
      "|1. Location            - List of Employees and properties by location            |\n",
      "|2. Employee             - Search Employee by Social Security Number              |\n",
      "|3. Property                - Search Properties by the property id                |\n",
      "|4. WorkId                      - Search Work by the WorkID                       |\n",
      "|Quit(q)                            - Exit The program                            |\n",
      "|---------------------------------------------------------------------------------|\n",
      "+-----------------------------------:Your input:----------------------------------+\n"
     ]
    }
   ],
   "source": [
    "h = '-'\n",
    "c = '+'\n",
    "d = '|'\n",
    "print (c + \"Air Nan\".center(81, h) + c)\n",
    "print (d + \"Welcome to Air NaN\". center(81) + d)\n",
    "print (c + h*81 + c)\n",
    "print(d + \" \" + \"Home(home)\" + \" \" + d + \" \" + d + \"Search(search)\" + \" \" + d +\" \"+ \"Destinations(des)\" + \" \" + d +\" \" + \"Housing(Hou)\" + \" \" + d + \" \" + \"Employees(Em)\" + \" \" + d)\n",
    "print(d + h*81 + d)\n",
    "print(d + \"Search Menu\".center(81) + d)\n",
    "print(d + h*81 + d)\n",
    "print(d + \"1. Location\" + \"- List of Employees and properties by location\".center(70) + d)\n",
    "print(d + \"2. Employee\" + \"- Search Employee by Social Security Number\".center(70) + d)\n",
    "print(d + \"3. Property\" + \"- Search Properties by the property id\".center(70) + d)\n",
    "print(d + \"4. WorkId\" + \"- Search Work by the WorkID\".center(72) + d)\n",
    "print(d + \"Quit(q)\" + \"- Exit The program\".center(74) + d)\n",
    "print (d + h*81 + d)\n",
    "print (c + \":Your input:\".center(81, h) + c)"
   ]
  },
  {
   "cell_type": "code",
   "execution_count": 6,
   "metadata": {},
   "outputs": [
    {
     "name": "stdout",
     "output_type": "stream",
     "text": [
      "<function ss at 0x000001D19BA2BE20>\n"
     ]
    }
   ],
   "source": [
    "def ss(self):\n",
    "    columns, _ = self.get_terminal_size()\n",
    "    h = '-'\n",
    "    c = '+'\n",
    "    d = '|'\n",
    "    print(c + h * (columns - 2) + c)\n",
    "    print(d + \" 1. List All Employees \".ljust(columns - 2) + d)\n",
    "    print(d + \" b. Back to Login Menu \".ljust(columns - 2) + d)\n",
    "    print(d + \" q. Quit \".ljust(columns - 2) + d)\n",
    "    print(c + h * (columns - 2) + c)\n",
    "\n",
    "    choice = input(\"\\nChoose an option: \").strip().lower()\n",
    "ins = ss\n",
    "print(ins)"
   ]
  }
 ],
 "metadata": {
  "kernelspec": {
   "display_name": "Python 3",
   "language": "python",
   "name": "python3"
  },
  "language_info": {
   "codemirror_mode": {
    "name": "ipython",
    "version": 3
   },
   "file_extension": ".py",
   "mimetype": "text/x-python",
   "name": "python",
   "nbconvert_exporter": "python",
   "pygments_lexer": "ipython3",
   "version": "3.12.6"
  }
 },
 "nbformat": 4,
 "nbformat_minor": 2
}
