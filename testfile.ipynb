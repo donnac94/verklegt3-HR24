{
 "cells": [
  {
   "cell_type": "code",
   "execution_count": 1,
   "metadata": {},
   "outputs": [
    {
     "name": "stdout",
     "output_type": "stream",
     "text": [
      "+----------------------------Air Nan----------------------------+\n",
      "|                       Welcome to Air NaN                      |\n",
      "+---------------------------------------------------------------+\n",
      "| Home(home) | Destinations(des) | Housing(Hou) | Employees(Em) |\n",
      "|---------------------------------------------------------------|\n",
      "|                           Main Menu                           |\n",
      "|Work                - Goes to the home worksheet               |\n",
      "|Work                - Goes to the home worksheet               |\n",
      "|Work                - Goes to the home worksheet               |\n",
      "|Work                - Goes to the home worksheet               |\n",
      "|Work                - Goes to the home worksheet               |\n",
      "|---------------------------------------------------------------|\n",
      "+--------------------------Your input:--------------------------+\n"
     ]
    }
   ],
   "source": [
    "\n",
    "h = '-'\n",
    "c = '+'\n",
    "d = '|'\n",
    "print (c + \"Air Nan\".center(63, h) + c)\n",
    "print (d + \"Welcome to Air NaN\". center(63) + d)\n",
    "print (c + h*63 + c)\n",
    "print(d + \" \" + \"Home(home)\" + \" \" + d + \" \" + \"Destinations(des)\" + \" \" + d +\" \" + \"Housing(Hou)\" + \" \" + d + \" \" + \"Employees(Em)\" + \" \" + d)\n",
    "print(d + h*63 + d)\n",
    "print(d + \"Main Menu\".center(63) + d)\n",
    "print(d + \"Work\" + \"- Goes to the home worksheet\".center(59) + d)\n",
    "print(d + \"Work\" + \"- Goes to the home worksheet\".center(59) + d)\n",
    "print(d + \"Work\" + \"- Goes to the home worksheet\".center(59) + d)\n",
    "print(d + \"Work\" + \"- Goes to the home worksheet\".center(59) + d)\n",
    "print(d + \"Work\" + \"- Goes to the home worksheet\".center(59) + d)\n",
    "print (d + h*63 + d)\n",
    "print (c + \"Your input:\".center(63, h) + c)"
   ]
  },
  {
   "cell_type": "code",
   "execution_count": 19,
   "metadata": {},
   "outputs": [
    {
     "name": "stdout",
     "output_type": "stream",
     "text": [
      "+-------------------------------------Air Nan-------------------------------------+\n",
      "|                                Welcome to Air NaN                               |\n",
      "+---------------------------------------------------------------------------------+\n",
      "| Home(home) | |Search(search) | Destinations(des) | Housing(Hou) | Employees(Em) |\n",
      "|---------------------------------------------------------------------------------|\n",
      "|                                   Search Menu                                   |\n",
      "|---------------------------------------------------------------------------------|\n",
      "|1. Location            - List of Employees and properties by location            |\n",
      "|2. Employee             - Search Employee by Social Security Number              |\n",
      "|3. Property                - Search Properties by the property id                |\n",
      "|4. WorkId                      - Search Work by the WorkID                       |\n",
      "|Quit(q)                            - Exit The program                            |\n",
      "|---------------------------------------------------------------------------------|\n",
      "+-----------------------------------:Your input:----------------------------------+\n"
     ]
    }
   ],
   "source": [
    "h = '-'\n",
    "c = '+'\n",
    "d = '|'\n",
    "print (c + \"Air Nan\".center(81, h) + c)\n",
    "print (d + \"Welcome to Air NaN\". center(81) + d)\n",
    "print (c + h*81 + c)\n",
    "print(d + \" \" + \"Home(home)\" + \" \" + d + \" \" + d + \"Search(search)\" + \" \" + d +\" \"+ \"Destinations(des)\" + \" \" + d +\" \" + \"Housing(Hou)\" + \" \" + d + \" \" + \"Employees(Em)\" + \" \" + d)\n",
    "print(d + h*81 + d)\n",
    "print(d + \"Search Menu\".center(81) + d)\n",
    "print(d + h*81 + d)\n",
    "print(d + \"1. Location\" + \"- List of Employees and properties by location\".center(70) + d)\n",
    "print(d + \"2. Employee\" + \"- Search Employee by Social Security Number\".center(70) + d)\n",
    "print(d + \"3. Property\" + \"- Search Properties by the property id\".center(70) + d)\n",
    "print(d + \"4. WorkId\" + \"- Search Work by the WorkID\".center(72) + d)\n",
    "print(d + \"Quit(q)\" + \"- Exit The program\".center(74) + d)\n",
    "print (d + h*81 + d)\n",
    "print (c + \":Your input:\".center(81, h) + c)"
   ]
  }
 ],
 "metadata": {
  "kernelspec": {
   "display_name": "Python 3",
   "language": "python",
   "name": "python3"
  },
  "language_info": {
   "codemirror_mode": {
    "name": "ipython",
    "version": 3
   },
   "file_extension": ".py",
   "mimetype": "text/x-python",
   "name": "python",
   "nbconvert_exporter": "python",
   "pygments_lexer": "ipython3",
   "version": "3.12.6"
  }
 },
 "nbformat": 4,
 "nbformat_minor": 2
}
